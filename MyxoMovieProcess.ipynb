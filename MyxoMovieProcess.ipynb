{
 "cells": [
  {
   "cell_type": "markdown",
   "source": [
    "# Mock dataset\n",
    "Use the information provided in mutant_start_peak.csv to create mock dataset directories.\n",
    "Import necessary packages."
   ],
   "metadata": {
    "collapsed": false
   },
   "id": "137fe977f1a55e95"
  },
  {
   "cell_type": "code",
   "execution_count": 1,
   "outputs": [],
   "source": [
    "import pandas as pd"
   ],
   "metadata": {
    "collapsed": false,
    "ExecuteTime": {
     "end_time": "2023-08-15T22:51:24.812690135Z",
     "start_time": "2023-08-15T22:51:24.662573164Z"
    }
   },
   "id": "babe67818a54f303"
  },
  {
   "cell_type": "markdown",
   "source": [
    "Data visualization"
   ],
   "metadata": {
    "collapsed": false
   },
   "id": "ddea71288410b44d"
  },
  {
   "cell_type": "code",
   "execution_count": 2,
   "id": "initial_id",
   "metadata": {
    "collapsed": true,
    "ExecuteTime": {
     "end_time": "2023-08-15T22:51:26.266451437Z",
     "start_time": "2023-08-15T22:51:26.233480267Z"
    }
   },
   "outputs": [
    {
     "data": {
      "text/plain": "   Unnamed: 0 mutant     strain  \\\n0           0    ABC  MXAN_0251   \n1           1    ABC  MXAN_0251   \n2           2    ABC  MXAN_0251   \n3           3    ABC  MXAN_0251   \n4           4    ABC  MXAN_0553   \n\n                                           videoname  start_time  peak_time  \n0  ABC Transporters--MXAN_0251--MXAN_0251-mic4-01...         370        820  \n1  ABC Transporters--MXAN_0251--MXAN_0251-mic5-01...         340        440  \n2  ABC Transporters--MXAN_0251--MXAN_0251-mic7-01...         620        900  \n3                  ABC Transporters--MXAN_0251--test         640        890  \n4       ABC Transporters--MXAN_0553--MXAN_0553-mic-4         600        880  ",
      "text/html": "<div>\n<style scoped>\n    .dataframe tbody tr th:only-of-type {\n        vertical-align: middle;\n    }\n\n    .dataframe tbody tr th {\n        vertical-align: top;\n    }\n\n    .dataframe thead th {\n        text-align: right;\n    }\n</style>\n<table border=\"1\" class=\"dataframe\">\n  <thead>\n    <tr style=\"text-align: right;\">\n      <th></th>\n      <th>Unnamed: 0</th>\n      <th>mutant</th>\n      <th>strain</th>\n      <th>videoname</th>\n      <th>start_time</th>\n      <th>peak_time</th>\n    </tr>\n  </thead>\n  <tbody>\n    <tr>\n      <th>0</th>\n      <td>0</td>\n      <td>ABC</td>\n      <td>MXAN_0251</td>\n      <td>ABC Transporters--MXAN_0251--MXAN_0251-mic4-01...</td>\n      <td>370</td>\n      <td>820</td>\n    </tr>\n    <tr>\n      <th>1</th>\n      <td>1</td>\n      <td>ABC</td>\n      <td>MXAN_0251</td>\n      <td>ABC Transporters--MXAN_0251--MXAN_0251-mic5-01...</td>\n      <td>340</td>\n      <td>440</td>\n    </tr>\n    <tr>\n      <th>2</th>\n      <td>2</td>\n      <td>ABC</td>\n      <td>MXAN_0251</td>\n      <td>ABC Transporters--MXAN_0251--MXAN_0251-mic7-01...</td>\n      <td>620</td>\n      <td>900</td>\n    </tr>\n    <tr>\n      <th>3</th>\n      <td>3</td>\n      <td>ABC</td>\n      <td>MXAN_0251</td>\n      <td>ABC Transporters--MXAN_0251--test</td>\n      <td>640</td>\n      <td>890</td>\n    </tr>\n    <tr>\n      <th>4</th>\n      <td>4</td>\n      <td>ABC</td>\n      <td>MXAN_0553</td>\n      <td>ABC Transporters--MXAN_0553--MXAN_0553-mic-4</td>\n      <td>600</td>\n      <td>880</td>\n    </tr>\n  </tbody>\n</table>\n</div>"
     },
     "execution_count": 2,
     "metadata": {},
     "output_type": "execute_result"
    }
   ],
   "source": [
    "df = pd.read_csv('mutant_start_peak.csv', sep=',')\n",
    "df.head()"
   ]
  },
  {
   "cell_type": "code",
   "execution_count": 3,
   "outputs": [
    {
     "name": "stdout",
     "output_type": "stream",
     "text": [
      "<class 'pandas.core.frame.DataFrame'>\n",
      "RangeIndex: 532 entries, 0 to 531\n",
      "Data columns (total 6 columns):\n",
      " #   Column      Non-Null Count  Dtype \n",
      "---  ------      --------------  ----- \n",
      " 0   Unnamed: 0  532 non-null    int64 \n",
      " 1   mutant      532 non-null    object\n",
      " 2   strain      532 non-null    object\n",
      " 3   videoname   532 non-null    object\n",
      " 4   start_time  532 non-null    int64 \n",
      " 5   peak_time   532 non-null    int64 \n",
      "dtypes: int64(3), object(3)\n",
      "memory usage: 25.1+ KB\n"
     ]
    },
    {
     "data": {
      "text/plain": "            count        mean         std    min    25%    50%      75%  \\\nUnnamed: 0  532.0  577.075188  358.665241    0.0  348.0  559.0   871.25   \nstart_time  532.0  430.225564  270.228936    0.0  280.0  400.0   570.00   \npeak_time   532.0  882.518797  368.317866  190.0  570.0  820.0  1225.00   \n\n               max  \nUnnamed: 0  1128.0  \nstart_time  1390.0  \npeak_time   1440.0  ",
      "text/html": "<div>\n<style scoped>\n    .dataframe tbody tr th:only-of-type {\n        vertical-align: middle;\n    }\n\n    .dataframe tbody tr th {\n        vertical-align: top;\n    }\n\n    .dataframe thead th {\n        text-align: right;\n    }\n</style>\n<table border=\"1\" class=\"dataframe\">\n  <thead>\n    <tr style=\"text-align: right;\">\n      <th></th>\n      <th>count</th>\n      <th>mean</th>\n      <th>std</th>\n      <th>min</th>\n      <th>25%</th>\n      <th>50%</th>\n      <th>75%</th>\n      <th>max</th>\n    </tr>\n  </thead>\n  <tbody>\n    <tr>\n      <th>Unnamed: 0</th>\n      <td>532.0</td>\n      <td>577.075188</td>\n      <td>358.665241</td>\n      <td>0.0</td>\n      <td>348.0</td>\n      <td>559.0</td>\n      <td>871.25</td>\n      <td>1128.0</td>\n    </tr>\n    <tr>\n      <th>start_time</th>\n      <td>532.0</td>\n      <td>430.225564</td>\n      <td>270.228936</td>\n      <td>0.0</td>\n      <td>280.0</td>\n      <td>400.0</td>\n      <td>570.00</td>\n      <td>1390.0</td>\n    </tr>\n    <tr>\n      <th>peak_time</th>\n      <td>532.0</td>\n      <td>882.518797</td>\n      <td>368.317866</td>\n      <td>190.0</td>\n      <td>570.0</td>\n      <td>820.0</td>\n      <td>1225.00</td>\n      <td>1440.0</td>\n    </tr>\n  </tbody>\n</table>\n</div>"
     },
     "execution_count": 3,
     "metadata": {},
     "output_type": "execute_result"
    }
   ],
   "source": [
    "df.info()\n",
    "df.describe().T"
   ],
   "metadata": {
    "collapsed": false,
    "ExecuteTime": {
     "end_time": "2023-08-15T22:52:35.835381529Z",
     "start_time": "2023-08-15T22:52:35.805665180Z"
    }
   },
   "id": "5be9b34aa2cd4c56"
  },
  {
   "cell_type": "code",
   "execution_count": 1,
   "outputs": [
    {
     "ename": "NameError",
     "evalue": "name 'df' is not defined",
     "output_type": "error",
     "traceback": [
      "\u001B[0;31m---------------------------------------------------------------------------\u001B[0m",
      "\u001B[0;31mNameError\u001B[0m                                 Traceback (most recent call last)",
      "Cell \u001B[0;32mIn [1], line 3\u001B[0m\n\u001B[1;32m      1\u001B[0m \u001B[38;5;28;01mimport\u001B[39;00m \u001B[38;5;21;01mos\u001B[39;00m\n\u001B[1;32m      2\u001B[0m root \u001B[38;5;241m=\u001B[39m \u001B[38;5;124m'\u001B[39m\u001B[38;5;124mMutant_movies\u001B[39m\u001B[38;5;124m'\u001B[39m\n\u001B[0;32m----> 3\u001B[0m \u001B[38;5;28;01mfor\u001B[39;00m videoname \u001B[38;5;129;01min\u001B[39;00m \u001B[43mdf\u001B[49m[\u001B[38;5;124m'\u001B[39m\u001B[38;5;124mvideoname\u001B[39m\u001B[38;5;124m'\u001B[39m]:\n\u001B[1;32m      4\u001B[0m     folder \u001B[38;5;241m=\u001B[39m os\u001B[38;5;241m.\u001B[39mpath\u001B[38;5;241m.\u001B[39mjoin(root, \u001B[38;5;241m*\u001B[39mvideoname\u001B[38;5;241m.\u001B[39msplit(\u001B[38;5;124m'\u001B[39m\u001B[38;5;124m--\u001B[39m\u001B[38;5;124m'\u001B[39m))\n\u001B[1;32m      5\u001B[0m     os\u001B[38;5;241m.\u001B[39mmakedirs(folder, exist_ok\u001B[38;5;241m=\u001B[39m\u001B[38;5;28;01mTrue\u001B[39;00m)\n",
      "\u001B[0;31mNameError\u001B[0m: name 'df' is not defined"
     ]
    }
   ],
   "source": [
    "import os\n",
    "root = 'Mutant_movies'\n",
    "for videoname in df['videoname']:\n",
    "    folder = os.path.join(root, *videoname.split('--'))\n",
    "    os.makedirs(folder, exist_ok=True)\n",
    "    for i in range(1441):\n",
    "        open(os.path.join(folder, f\"{i}\"), 'a').close()"
   ],
   "metadata": {
    "collapsed": false,
    "ExecuteTime": {
     "end_time": "2023-08-16T21:19:07.100877457Z",
     "start_time": "2023-08-16T21:19:06.838032424Z"
    }
   },
   "id": "876a863c748879b0"
  },
  {
   "cell_type": "markdown",
   "source": [
    "## Copy files from root to target\n",
    "Now the mock data is created. We are going to extract the specific points to a separate directory."
   ],
   "metadata": {
    "collapsed": false
   },
   "id": "ab07590eb95ffd13"
  },
  {
   "cell_type": "code",
   "execution_count": 15,
   "outputs": [
    {
     "name": "stdout",
     "output_type": "stream",
     "text": [
      "ABC Transporters--MXAN_0559--MXAN_0559-mic6-5.16.12 0\n",
      "ABC Transporters--MXAN_0559--MXAN_0559-mic8-5.16.12 0\n",
      "ABC Transporters--MXAN_0559--test 0\n",
      "ABC Transporters--MXAN_0629--MXAN_0685--MXAN_0685-mic7-2.17.12 0\n",
      "ABC Transporters--MXAN_1376--test 0\n",
      "Ntr-C activators--MXAN_4785--MXAN_4785-mic5-2.28.12 0\n",
      "Ntr-C activators--MXAN_0116--MXAN_0116-mic5-2.8.12 0\n",
      "Ntr-C activators--MXAN_0116--MXAN_0116-mic6-2.8.12 0\n",
      "Ntr-C activators--MXAN_0116--MXAN_0116-mic7-2.8.12 0\n",
      "Ntr-C activators--MXAN_0116--test 0\n",
      "Ntr-C activators--MXAN_0603--MXAN_0603-mic1-9.30.11 0\n",
      "Ntr-C activators--MXAN_0603--MXAN_0603-mic8-11.03.11 0\n",
      "Ntr-C activators--MXAN_1128--MXAN_1128-mic8-1.20.12 0\n",
      "Ntr-C activators--MXAN_1167--MXAN_1167-mic4-1.20.12 0\n",
      "Ntr-C activators--MXAN_1167--MXAN_1167-mic6-01.20.14 0\n",
      "Ntr-C activators--MXAN_1167--MXAN_1167-mic8-01.20.14 0\n",
      "Ntr-C activators--MXAN_1167--test 0\n",
      "Ntr-C activators--MXAN_1565--MXAN_1565-mic3-9.27.11 0\n",
      "Ntr-C activators--MXAN_1565--MXAN_1565-mic5-10.21.11-24h 0\n",
      "Ntr-C activators--MXAN_1565--MXAN_1565-mic6-01.21.14 0\n",
      "Ntr-C activators--MXAN_1565--MXAN_1565-mic6-1.24.12 0\n",
      "Ntr-C activators--MXAN_1565--MXAN_1565-mic8-01.21.14 0\n",
      "Ntr-C activators--MXAN_1565--MXAN_1565-mic8-1.24.12 0\n",
      "Ntr-C activators--MXAN_3214--MXAN_3214(actB)-mic3-01.03.2017 0\n",
      "Ntr-C activators--MXAN_3214--test 0\n",
      "Ntr-C activators--MXAN_3333--MXAN_3333-mic4-1.27.12@ 0\n",
      "Ntr-C activators--MXAN_3333--MXAN_3333-mic5-10.1.13 0\n",
      "Ntr-C activators--MXAN_3333--MXAN_3333-mic7-10.1.13 0\n",
      "Ntr-C activators--MXAN_3333--MXAN_3333-mic8-1.27.12@ 0\n",
      "Ntr-C activators--MXAN_3333--test 0\n",
      "Ntr-C activators--MXAN_3692--MXAN_3692-nla18-mic3-1.6.17 0\n",
      "Ntr-C activators--MXAN_4196--MXAN_4196-mic5-01.03.17(looks like actB) 0\n",
      "Ntr-C activators--MXAN_4196--MXAN_4196-mic6-01.03.2017 0\n",
      "Ntr-C activators--MXAN_4196--test 0\n",
      "ECF sigma-70 factor--MXAN_5245--MXAN_5245-mic2-1.8.17 0\n",
      "ECF sigma-70 factor--MXAN_5245--MXAN_5245-mic3-1.8.17 0\n",
      "ECF sigma-70 factor--MXAN_5245--test 0\n",
      "ECF sigma-70 factor--MXAN_5263--MXAN_5263-mic6-11.01.16 0\n",
      "One Component_New--MXAN_0665--1pTPM_MXAN_0665_mic1_3.30.11 0\n",
      "One Component_New--MXAN_0665--1pTPM_MXAN_0665_mic4_3.30.11 0\n",
      "One Component_New--MXAN_0665--1pTPM_MXAN_0665_mic6_3.30.11 0\n",
      "One Component_New--MXAN_0665--1pTPM_MXAN_0665_mic7_3.30.11 0\n",
      "One Component_New--MXAN_0665--1pTPM_MXAN_0665_mic8_3.30.11 0\n",
      "One Component_New--MXAN_0665--MXAN_0665-mic2-3.22.17 0\n",
      "One Component_New--MXAN_0665--MXAN_0665-mic3-3.22.17 0\n",
      "One Component_New--MXAN_0707--MXAN_0707-mic8-10.11.13 0\n",
      "One Component_New--MXAN_0784--MXAN_0784-mic2-3.21.17 0\n",
      "One Component_New--MXAN_1137--test 0\n",
      "One Component_New--MXAN_1402--MXAN_1402-mic8-11.06.13 0\n",
      "One Component_New--MXAN_1711--MXAN_1711-mic4-11.11.13 0\n",
      "One Component_New--MXAN_1711--MXAN_1711-mic5-11.11.13 0\n",
      "One Component_New--MXAN_1711--MXAN_1711-mic7-11.11.13 0\n",
      "One Component_New--MXAN_1711--test 0\n",
      "One Component_New--MXAN_2145--MXAN_2145-mic3-11.12.13 0\n"
     ]
    }
   ],
   "source": [
    "import os\n",
    "import shutil\n",
    "root = 'Mutant_movies'\n",
    "target = 'Filtered_movies'\n",
    "for index, row in df.iterrows():\n",
    "    os.makedirs(os.path.join(target, *row['videoname'].split('--')), exist_ok=True)\n",
    "    for time in ['start_time', 'peak_time']:\n",
    "        source = os.path.join(root, *row['videoname'].split('--'), f\"{row[time]}\")\n",
    "        goal = os.path.join(target, *row['videoname'].split('--'), f\"{row[time]}\")\n",
    "        try:\n",
    "            shutil.copy(source, goal)\n",
    "        except:\n",
    "            print(row['videoname'], row[time])\n",
    "    source = os.path.join(root, *row['videoname'].split('--'), '1440')\n",
    "    goal = os.path.join(target, *row['videoname'].split('--'), '1440')\n",
    "    shutil.copy(source, goal)"
   ],
   "metadata": {
    "collapsed": false,
    "ExecuteTime": {
     "end_time": "2023-08-15T23:15:33.021541556Z",
     "start_time": "2023-08-15T23:15:32.835135085Z"
    }
   },
   "id": "3f433f83dd16cc47"
  },
  {
   "cell_type": "code",
   "execution_count": null,
   "outputs": [],
   "source": [],
   "metadata": {
    "collapsed": false
   },
   "id": "73b4a1c1e4510972"
  }
 ],
 "metadata": {
  "kernelspec": {
   "display_name": "Python 3",
   "language": "python",
   "name": "python3"
  },
  "language_info": {
   "codemirror_mode": {
    "name": "ipython",
    "version": 2
   },
   "file_extension": ".py",
   "mimetype": "text/x-python",
   "name": "python",
   "nbconvert_exporter": "python",
   "pygments_lexer": "ipython2",
   "version": "2.7.6"
  }
 },
 "nbformat": 4,
 "nbformat_minor": 5
}
